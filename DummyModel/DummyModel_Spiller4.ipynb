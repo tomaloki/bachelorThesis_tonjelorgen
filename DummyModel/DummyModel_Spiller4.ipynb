{
 "cells": [
  {
   "cell_type": "markdown",
   "id": "def5cba5",
   "metadata": {},
   "source": [
    "# Spiller4\n",
    "# Implementasjon og oppsett for å lage en baseline for testscore ved hjelp av en Dummy Model\n",
    "#### Tar i bruk en Regressor-versjon av modellen, som brukes til å estimere test error verdier innenfor Mean Absolute Error, Mean Squard Error of Coefficient of Determination (R^2). "
   ]
  },
  {
   "cell_type": "code",
   "execution_count": 1,
   "id": "3d8bca5f",
   "metadata": {},
   "outputs": [],
   "source": [
    "# Importer\n",
    "import numpy as np\n",
    "import pandas as pd\n",
    "\n",
    "\n",
    "import matplotlib.pyplot as plt\n",
    "plt.style.use('fivethirtyeight')\n",
    "plt.rcParams['lines.linewidth'] = 1.5\n",
    "%matplotlib inline\n",
    "from sklearn import metrics\n",
    "\n",
    "import warnings\n",
    "warnings.filterwarnings('ignore')\n",
    "\n",
    "from sklearn.dummy import DummyRegressor\n",
    "from sklearn.model_selection import train_test_split\n",
    "from sklearn.model_selection import train_test_split"
   ]
  },
  {
   "cell_type": "markdown",
   "id": "3bb780f1",
   "metadata": {},
   "source": [
    "# Steg 1: Importerer datasett\n",
    "#### Bruker datasettet til én av de fire spillerne vi har valgt ut:"
   ]
  },
  {
   "cell_type": "code",
   "execution_count": 2,
   "id": "2a5d2e39",
   "metadata": {},
   "outputs": [
    {
     "data": {
      "text/html": [
       "<div>\n",
       "<style scoped>\n",
       "    .dataframe tbody tr th:only-of-type {\n",
       "        vertical-align: middle;\n",
       "    }\n",
       "\n",
       "    .dataframe tbody tr th {\n",
       "        vertical-align: top;\n",
       "    }\n",
       "\n",
       "    .dataframe thead th {\n",
       "        text-align: right;\n",
       "    }\n",
       "</style>\n",
       "<table border=\"1\" class=\"dataframe\">\n",
       "  <thead>\n",
       "    <tr style=\"text-align: right;\">\n",
       "      <th></th>\n",
       "      <th>Date</th>\n",
       "      <th>Fatigue</th>\n",
       "      <th>Mood</th>\n",
       "      <th>Readiness</th>\n",
       "      <th>SleepDurH</th>\n",
       "      <th>SleepQuality</th>\n",
       "      <th>Soreness</th>\n",
       "      <th>Stress</th>\n",
       "    </tr>\n",
       "  </thead>\n",
       "  <tbody>\n",
       "    <tr>\n",
       "      <th>0</th>\n",
       "      <td>2020-03-20</td>\n",
       "      <td>NaN</td>\n",
       "      <td>NaN</td>\n",
       "      <td>NaN</td>\n",
       "      <td>NaN</td>\n",
       "      <td>NaN</td>\n",
       "      <td>NaN</td>\n",
       "      <td>NaN</td>\n",
       "    </tr>\n",
       "    <tr>\n",
       "      <th>1</th>\n",
       "      <td>2020-03-21</td>\n",
       "      <td>2.0</td>\n",
       "      <td>3.0</td>\n",
       "      <td>5.0</td>\n",
       "      <td>8.0</td>\n",
       "      <td>3.0</td>\n",
       "      <td>4.0</td>\n",
       "      <td>4.0</td>\n",
       "    </tr>\n",
       "    <tr>\n",
       "      <th>2</th>\n",
       "      <td>2020-03-22</td>\n",
       "      <td>3.0</td>\n",
       "      <td>3.0</td>\n",
       "      <td>6.0</td>\n",
       "      <td>8.5</td>\n",
       "      <td>3.0</td>\n",
       "      <td>2.0</td>\n",
       "      <td>3.0</td>\n",
       "    </tr>\n",
       "    <tr>\n",
       "      <th>3</th>\n",
       "      <td>2020-03-23</td>\n",
       "      <td>3.0</td>\n",
       "      <td>3.0</td>\n",
       "      <td>6.0</td>\n",
       "      <td>8.5</td>\n",
       "      <td>3.0</td>\n",
       "      <td>2.0</td>\n",
       "      <td>3.0</td>\n",
       "    </tr>\n",
       "    <tr>\n",
       "      <th>4</th>\n",
       "      <td>2020-03-24</td>\n",
       "      <td>3.0</td>\n",
       "      <td>3.0</td>\n",
       "      <td>7.0</td>\n",
       "      <td>8.5</td>\n",
       "      <td>3.0</td>\n",
       "      <td>3.0</td>\n",
       "      <td>3.0</td>\n",
       "    </tr>\n",
       "    <tr>\n",
       "      <th>...</th>\n",
       "      <td>...</td>\n",
       "      <td>...</td>\n",
       "      <td>...</td>\n",
       "      <td>...</td>\n",
       "      <td>...</td>\n",
       "      <td>...</td>\n",
       "      <td>...</td>\n",
       "      <td>...</td>\n",
       "    </tr>\n",
       "    <tr>\n",
       "      <th>647</th>\n",
       "      <td>2021-12-27</td>\n",
       "      <td>4.0</td>\n",
       "      <td>5.0</td>\n",
       "      <td>9.0</td>\n",
       "      <td>9.0</td>\n",
       "      <td>4.0</td>\n",
       "      <td>4.0</td>\n",
       "      <td>5.0</td>\n",
       "    </tr>\n",
       "    <tr>\n",
       "      <th>648</th>\n",
       "      <td>2021-12-28</td>\n",
       "      <td>2.0</td>\n",
       "      <td>5.0</td>\n",
       "      <td>9.0</td>\n",
       "      <td>8.0</td>\n",
       "      <td>3.0</td>\n",
       "      <td>3.0</td>\n",
       "      <td>5.0</td>\n",
       "    </tr>\n",
       "    <tr>\n",
       "      <th>649</th>\n",
       "      <td>2021-12-29</td>\n",
       "      <td>3.0</td>\n",
       "      <td>5.0</td>\n",
       "      <td>8.0</td>\n",
       "      <td>8.5</td>\n",
       "      <td>3.0</td>\n",
       "      <td>3.0</td>\n",
       "      <td>4.0</td>\n",
       "    </tr>\n",
       "    <tr>\n",
       "      <th>650</th>\n",
       "      <td>2021-12-30</td>\n",
       "      <td>4.0</td>\n",
       "      <td>5.0</td>\n",
       "      <td>9.0</td>\n",
       "      <td>10.0</td>\n",
       "      <td>3.0</td>\n",
       "      <td>3.0</td>\n",
       "      <td>4.0</td>\n",
       "    </tr>\n",
       "    <tr>\n",
       "      <th>651</th>\n",
       "      <td>2021-12-31</td>\n",
       "      <td>3.0</td>\n",
       "      <td>5.0</td>\n",
       "      <td>8.0</td>\n",
       "      <td>9.0</td>\n",
       "      <td>3.0</td>\n",
       "      <td>4.0</td>\n",
       "      <td>5.0</td>\n",
       "    </tr>\n",
       "  </tbody>\n",
       "</table>\n",
       "<p>652 rows × 8 columns</p>\n",
       "</div>"
      ],
      "text/plain": [
       "           Date  Fatigue  Mood  Readiness  SleepDurH  SleepQuality  Soreness  \\\n",
       "0    2020-03-20      NaN   NaN        NaN        NaN           NaN       NaN   \n",
       "1    2020-03-21      2.0   3.0        5.0        8.0           3.0       4.0   \n",
       "2    2020-03-22      3.0   3.0        6.0        8.5           3.0       2.0   \n",
       "3    2020-03-23      3.0   3.0        6.0        8.5           3.0       2.0   \n",
       "4    2020-03-24      3.0   3.0        7.0        8.5           3.0       3.0   \n",
       "..          ...      ...   ...        ...        ...           ...       ...   \n",
       "647  2021-12-27      4.0   5.0        9.0        9.0           4.0       4.0   \n",
       "648  2021-12-28      2.0   5.0        9.0        8.0           3.0       3.0   \n",
       "649  2021-12-29      3.0   5.0        8.0        8.5           3.0       3.0   \n",
       "650  2021-12-30      4.0   5.0        9.0       10.0           3.0       3.0   \n",
       "651  2021-12-31      3.0   5.0        8.0        9.0           3.0       4.0   \n",
       "\n",
       "     Stress  \n",
       "0       NaN  \n",
       "1       4.0  \n",
       "2       3.0  \n",
       "3       3.0  \n",
       "4       3.0  \n",
       "..      ...  \n",
       "647     5.0  \n",
       "648     5.0  \n",
       "649     4.0  \n",
       "650     4.0  \n",
       "651     5.0  \n",
       "\n",
       "[652 rows x 8 columns]"
      ]
     },
     "execution_count": 2,
     "metadata": {},
     "output_type": "execute_result"
    }
   ],
   "source": [
    "url = '../Spiller4.csv'\n",
    "data = pd.read_csv(url, sep=',')\n",
    "data"
   ]
  },
  {
   "cell_type": "markdown",
   "id": "c08218c8",
   "metadata": {},
   "source": [
    "## Steg 2: Etter at dataen er importert, må den prepareres\n",
    "#### Her velger vi ut Readiness-parameteren som skal brukes til å gjøre prediksjoner med, og tar med oss datoene til å opprette et nytt datasett med disse utvalgte kolonnene.\n",
    "#### Deretter vil vi konvertere 'Date'-kolonnen til datetime, og setter videre dette som index. Frekvensen blir satt til 'D' (daglig)."
   ]
  },
  {
   "cell_type": "code",
   "execution_count": 3,
   "id": "21b8cd36",
   "metadata": {},
   "outputs": [],
   "source": [
    "data = data[['Date', 'Readiness']]"
   ]
  },
  {
   "cell_type": "code",
   "execution_count": 4,
   "id": "194aba80",
   "metadata": {},
   "outputs": [
    {
     "data": {
      "text/html": [
       "<div>\n",
       "<style scoped>\n",
       "    .dataframe tbody tr th:only-of-type {\n",
       "        vertical-align: middle;\n",
       "    }\n",
       "\n",
       "    .dataframe tbody tr th {\n",
       "        vertical-align: top;\n",
       "    }\n",
       "\n",
       "    .dataframe thead th {\n",
       "        text-align: right;\n",
       "    }\n",
       "</style>\n",
       "<table border=\"1\" class=\"dataframe\">\n",
       "  <thead>\n",
       "    <tr style=\"text-align: right;\">\n",
       "      <th></th>\n",
       "      <th>Readiness</th>\n",
       "    </tr>\n",
       "    <tr>\n",
       "      <th>Date</th>\n",
       "      <th></th>\n",
       "    </tr>\n",
       "  </thead>\n",
       "  <tbody>\n",
       "    <tr>\n",
       "      <th>2020-03-20</th>\n",
       "      <td>NaN</td>\n",
       "    </tr>\n",
       "    <tr>\n",
       "      <th>2020-03-21</th>\n",
       "      <td>5.0</td>\n",
       "    </tr>\n",
       "    <tr>\n",
       "      <th>2020-03-22</th>\n",
       "      <td>6.0</td>\n",
       "    </tr>\n",
       "    <tr>\n",
       "      <th>2020-03-23</th>\n",
       "      <td>6.0</td>\n",
       "    </tr>\n",
       "    <tr>\n",
       "      <th>2020-03-24</th>\n",
       "      <td>7.0</td>\n",
       "    </tr>\n",
       "  </tbody>\n",
       "</table>\n",
       "</div>"
      ],
      "text/plain": [
       "            Readiness\n",
       "Date                 \n",
       "2020-03-20        NaN\n",
       "2020-03-21        5.0\n",
       "2020-03-22        6.0\n",
       "2020-03-23        6.0\n",
       "2020-03-24        7.0"
      ]
     },
     "execution_count": 4,
     "metadata": {},
     "output_type": "execute_result"
    }
   ],
   "source": [
    "data['Date'] = pd.to_datetime(data['Date'], dayfirst=True)\n",
    "data = data.set_index('Date')\n",
    "data = data.rename(columns={'x': 'y'})\n",
    "data = data.asfreq('D')\n",
    "data = data.sort_index()\n",
    "data.head(5)"
   ]
  },
  {
   "cell_type": "markdown",
   "id": "3245a1f2",
   "metadata": {},
   "source": [
    "# Steg 3: Størrelse på datasett\n",
    "#### Datsettet avgrensens til å være fra 21.03.2020 til 31.12.2021. Gjøres likt hos alle fire spillere sine datasett."
   ]
  },
  {
   "cell_type": "code",
   "execution_count": 5,
   "id": "981b1079",
   "metadata": {},
   "outputs": [],
   "source": [
    "data = (data.loc['2020-03-21':'2021-12-31'])"
   ]
  },
  {
   "cell_type": "markdown",
   "id": "6e01a391",
   "metadata": {},
   "source": [
    "# Steg 4: Manglende verdier\n",
    "#### Datasettet inneholder manglende verdier, og disse tomme verdiene blir fylt med en metode kalt 'ffill'. Det vil si at kolonnen med manglende verdi blir fylt inn med verdien fra foregående dag."
   ]
  },
  {
   "cell_type": "code",
   "execution_count": 6,
   "id": "e5ba4d60",
   "metadata": {},
   "outputs": [],
   "source": [
    "data['Readiness'] = data['Readiness'].fillna(method='ffill')"
   ]
  },
  {
   "cell_type": "markdown",
   "id": "3f6dea4d",
   "metadata": {},
   "source": [
    "# Steg 5: Deler opp i trening- og testsett\n",
    "### Fordelingen er følgende: Datasettene består av totalt 651 verdier, hvor 80% av disse skal brukes til trening og 20% skal brukes til test og prediksjon. Dette gir oss følgende:\n",
    "#### Treningssett: 520 verdier\n",
    "#### Testsett: 131 verdier"
   ]
  },
  {
   "cell_type": "code",
   "execution_count": 7,
   "id": "09ee178e",
   "metadata": {},
   "outputs": [],
   "source": [
    "y = data['Readiness']\n",
    "X = data.index\n",
    "\n",
    "X_train, X_test, y_train, y_test = train_test_split(X, y, test_size = 0.2, random_state = 0)"
   ]
  },
  {
   "cell_type": "markdown",
   "id": "2d35cd28",
   "metadata": {},
   "source": [
    "# Steg 6: Oppretter Dummy Regressor Modell\n",
    "### Strategi: Setter modellen til å regne ut gjennomsnittsverdien i datasettet"
   ]
  },
  {
   "cell_type": "code",
   "execution_count": 8,
   "id": "87597529",
   "metadata": {},
   "outputs": [],
   "source": [
    "dummy_regr = DummyRegressor(strategy='mean')"
   ]
  },
  {
   "cell_type": "code",
   "execution_count": 9,
   "id": "60edb4fc",
   "metadata": {},
   "outputs": [
    {
     "data": {
      "text/plain": [
       "DummyRegressor()"
      ]
     },
     "execution_count": 9,
     "metadata": {},
     "output_type": "execute_result"
    }
   ],
   "source": [
    "dummy_regr.fit(X_train, y_train)"
   ]
  },
  {
   "cell_type": "code",
   "execution_count": 10,
   "id": "20cf34d1",
   "metadata": {},
   "outputs": [
    {
     "data": {
      "text/plain": [
       "DummyRegressor()"
      ]
     },
     "execution_count": 10,
     "metadata": {},
     "output_type": "execute_result"
    }
   ],
   "source": [
    "dummy_regr.fit(X_train, y_train)"
   ]
  },
  {
   "cell_type": "code",
   "execution_count": 11,
   "id": "53fe59f1",
   "metadata": {},
   "outputs": [
    {
     "name": "stdout",
     "output_type": "stream",
     "text": [
      "Prediksjon av gjennomsnittsverdi for Spiller1:\n"
     ]
    },
    {
     "data": {
      "text/plain": [
       "array([7.13653846, 7.13653846, 7.13653846, 7.13653846, 7.13653846,\n",
       "       7.13653846, 7.13653846, 7.13653846, 7.13653846, 7.13653846,\n",
       "       7.13653846, 7.13653846, 7.13653846, 7.13653846, 7.13653846,\n",
       "       7.13653846, 7.13653846, 7.13653846, 7.13653846, 7.13653846,\n",
       "       7.13653846, 7.13653846, 7.13653846, 7.13653846, 7.13653846,\n",
       "       7.13653846, 7.13653846, 7.13653846, 7.13653846, 7.13653846,\n",
       "       7.13653846, 7.13653846, 7.13653846, 7.13653846, 7.13653846,\n",
       "       7.13653846, 7.13653846, 7.13653846, 7.13653846, 7.13653846,\n",
       "       7.13653846, 7.13653846, 7.13653846, 7.13653846, 7.13653846,\n",
       "       7.13653846, 7.13653846, 7.13653846, 7.13653846, 7.13653846,\n",
       "       7.13653846, 7.13653846, 7.13653846, 7.13653846, 7.13653846,\n",
       "       7.13653846, 7.13653846, 7.13653846, 7.13653846, 7.13653846,\n",
       "       7.13653846, 7.13653846, 7.13653846, 7.13653846, 7.13653846,\n",
       "       7.13653846, 7.13653846, 7.13653846, 7.13653846, 7.13653846,\n",
       "       7.13653846, 7.13653846, 7.13653846, 7.13653846, 7.13653846,\n",
       "       7.13653846, 7.13653846, 7.13653846, 7.13653846, 7.13653846,\n",
       "       7.13653846, 7.13653846, 7.13653846, 7.13653846, 7.13653846,\n",
       "       7.13653846, 7.13653846, 7.13653846, 7.13653846, 7.13653846,\n",
       "       7.13653846, 7.13653846, 7.13653846, 7.13653846, 7.13653846,\n",
       "       7.13653846, 7.13653846, 7.13653846, 7.13653846, 7.13653846,\n",
       "       7.13653846, 7.13653846, 7.13653846, 7.13653846, 7.13653846,\n",
       "       7.13653846, 7.13653846, 7.13653846, 7.13653846, 7.13653846,\n",
       "       7.13653846, 7.13653846, 7.13653846, 7.13653846, 7.13653846,\n",
       "       7.13653846, 7.13653846, 7.13653846, 7.13653846, 7.13653846,\n",
       "       7.13653846, 7.13653846, 7.13653846, 7.13653846, 7.13653846,\n",
       "       7.13653846, 7.13653846, 7.13653846, 7.13653846, 7.13653846,\n",
       "       7.13653846])"
      ]
     },
     "execution_count": 11,
     "metadata": {},
     "output_type": "execute_result"
    }
   ],
   "source": [
    "print('Prediksjon av gjennomsnittsverdi for Spiller1:')\n",
    "y_predict = dummy_regr.predict(y_test)\n",
    "y_predict"
   ]
  },
  {
   "cell_type": "code",
   "execution_count": 12,
   "id": "5cb2624e",
   "metadata": {},
   "outputs": [
    {
     "name": "stdout",
     "output_type": "stream",
     "text": [
      "Baseline for testscore - Spiller4:\n",
      "MAE: 0.841441573693482\n",
      "MSE: 1.1025241372690726\n",
      "R^2: -0.012220025662024403\n"
     ]
    }
   ],
   "source": [
    "print('Baseline for testscore - Spiller4:')\n",
    "\n",
    "# Skriver ut MAE \n",
    "print('MAE:', metrics.mean_absolute_error(y_test, y_predict))\n",
    "\n",
    "# Skriver ut MSE\n",
    "print('MSE:', metrics.mean_squared_error(y_test, y_predict))\n",
    "\n",
    "# Skriver ut R^2\n",
    "print('R^2:', metrics.r2_score(y_test, y_predict))"
   ]
  },
  {
   "cell_type": "code",
   "execution_count": null,
   "id": "c68321fe",
   "metadata": {},
   "outputs": [],
   "source": []
  }
 ],
 "metadata": {
  "kernelspec": {
   "display_name": "Python 3",
   "language": "python",
   "name": "python3"
  },
  "language_info": {
   "codemirror_mode": {
    "name": "ipython",
    "version": 3
   },
   "file_extension": ".py",
   "mimetype": "text/x-python",
   "name": "python",
   "nbconvert_exporter": "python",
   "pygments_lexer": "ipython3",
   "version": "3.8.8"
  }
 },
 "nbformat": 4,
 "nbformat_minor": 5
}
